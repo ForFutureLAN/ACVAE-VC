{
 "cells": [
  {
   "cell_type": "code",
   "execution_count": 1,
   "metadata": {},
   "outputs": [],
   "source": [
    "import numpy as np\n",
    "import torch\n",
    "import torch.nn as nn\n",
    "import torchvision.datasets as dsets\n",
    "import torchvision.transforms as transforms\n",
    "from torch.autograd import Variable\n",
    "from torchsummary import summary\n",
    "\n",
    "import os\n",
    "import pyworld\n",
    "import librosa\n",
    "import time\n",
    "import matplotlib.pyplot as plt\n",
    "\n",
    "from preprocess import *\n",
    "from model import *\n",
    "\n",
    "torch.manual_seed(0)\n",
    "np.random.seed(0)"
   ]
  },
  {
   "cell_type": "code",
   "execution_count": 2,
   "metadata": {},
   "outputs": [],
   "source": [
    "model_dir = \"./model/model_mc32_fr1024\"\n",
    "model_name = \"model_mc32_fr1024\"\n",
    "\n",
    "data_dir = \"./data/voice_data\"\n",
    "# voice_dir = [\"F4\", \"F5\", \"F6\", \"M2\"]\n",
    "voice_dir = [\"test01\", \"test02\"]\n",
    "\n",
    "_from = voice_dir.index(\"test01\")\n",
    "_to = voice_dir.index(\"test02\")\n",
    "\n",
    "# output_dir = \"./converted_voices/model_mc32_fr1024_training_progress\"\n",
    "output_dir = \"./converted_voices/test\"\n",
    "\n",
    "# figure_dir = \"./figure/model_mc32_fr1024\"\n",
    "figure_dir = \"./figure/test\""
   ]
  },
  {
   "cell_type": "code",
   "execution_count": 3,
   "metadata": {},
   "outputs": [],
   "source": [
    "if (False):\n",
    "    for v in voice_dir:\n",
    "        print(\"Preprocess: \" + v)\n",
    "        preprocess_voice(os.path.join(data_dir, v), v)"
   ]
  },
  {
   "cell_type": "code",
   "execution_count": 4,
   "metadata": {},
   "outputs": [],
   "source": [
    "num_epochs = 10 #10000\n",
    "batch_size = 2\n",
    "learning_rate =1e-4 \n",
    "\n",
    "sampling_rate = 16000\n",
    "num_mcep = 36\n",
    "frame_period = 5.0\n",
    "n_frames = 1024 \n",
    "\n",
    "losses = []\n",
    "loss_num = 0"
   ]
  },
  {
   "cell_type": "code",
   "execution_count": 5,
   "metadata": {},
   "outputs": [],
   "source": [
    "def model_save(model, model_dir, model_name):\n",
    "    if not os.path.exists(model_dir):\n",
    "        os.makedirs(model_dir)\n",
    "    torch.save(model.state_dict(), os.path.join(model_dir, model_name))\n",
    "    \n",
    "def model_load(model_dir, model_name):\n",
    "    model = ACVAE()\n",
    "    model.load_state_dict(torch.load(os.path.join(model_dir, model_name)))"
   ]
  },
  {
   "cell_type": "code",
   "execution_count": 6,
   "metadata": {},
   "outputs": [],
   "source": [
    "def save_figure(losses, epoch):        \n",
    "    if not os.path.exists(figure_dir):\n",
    "            os.makedirs(figure_dir)\n",
    "    losses = np.array(losses)\n",
    "    losses = losses.reshape(-1, 4)\n",
    "    x = np.linspace(0, len(losses), len(losses))\n",
    "    losses_label = (\"L1\", \"KLD\", \"AC_1\", \"AC_2\")\n",
    "    plt.figure()\n",
    "    plt.plot(x, losses[:,0], label=losses_label[0])\n",
    "    plt.plot(x, losses[:,1], label=losses_label[1])\n",
    "    plt.plot(x, losses[:,2], label=losses_label[2])\n",
    "    plt.plot(x, losses[:,3], label=losses_label[3])\n",
    "    plt.legend(bbox_to_anchor=(1, 1), loc='upper right', borderaxespad=0)\n",
    "    plt.savefig(figure_dir + \"/\" + \"epoch_{:05}\".format(epoch) + \".png\")"
   ]
  },
  {
   "cell_type": "code",
   "execution_count": 7,
   "metadata": {},
   "outputs": [],
   "source": [
    "def data_load(batchsize = 1, s = -1, t = -1):\n",
    "    x = []\n",
    "    label = []\n",
    "    for i in range(batchsize):\n",
    "        if (s == -1):\n",
    "            label_num = np.random.randint(len(voice_dir))\n",
    "        else:\n",
    "            label_num = s\n",
    "        voice_path = os.path.join(data_dir, voice_dir[label_num])\n",
    "        files = os.listdir(voice_path)\n",
    "        \n",
    "        frames = 0\n",
    "        while frames < n_frames:\n",
    "            \n",
    "            file = \"\"\n",
    "            while file.count(\"wav\") == 0:\n",
    "                file = np.random.choice(files)\n",
    "            wav, _ = librosa.load(os.path.join(voice_path, file), sr = sampling_rate, mono = True)\n",
    "            wav = wav_padding(wav = wav, sr = sampling_rate, frame_period = frame_period, multiple = 4)\n",
    "            f0, timeaxis, sp, ap = world_decompose(wav = wav, fs = sampling_rate, frame_period = frame_period)\n",
    "            coded_sp = world_encode_spectral_envelop(sp = sp, fs = sampling_rate, dim = num_mcep)\n",
    "            coded_sp_transposed = coded_sp.T\n",
    "            frames = np.shape(coded_sp_transposed)[1]\n",
    "            \n",
    "        mcep_normalization_params = np.load(os.path.join(voice_path, \"mcep_\"+voice_dir[label_num]+\".npz\"))\n",
    "        mcep_mean = mcep_normalization_params['mean']\n",
    "        mcep_std = mcep_normalization_params['std']\n",
    "        coded_sp_norm = (coded_sp_transposed - mcep_mean) / mcep_std\n",
    "            \n",
    "        start_ = np.random.randint(frames - n_frames + 1)\n",
    "        end_ = start_ + n_frames\n",
    "            \n",
    "        x.append(coded_sp_norm[:,start_:end_])\n",
    "        label.append(label_num)\n",
    "\n",
    "    return torch.Tensor(x).view(batchsize, 1, num_mcep, n_frames), torch.Tensor(label)"
   ]
  },
  {
   "cell_type": "code",
   "execution_count": 8,
   "metadata": {},
   "outputs": [],
   "source": [
    "def test_one_file(model, s_label, t_label, epoch):\n",
    "    if not os.path.exists(output_dir):\n",
    "        os.makedirs(output_dir)\n",
    "        \n",
    "    voice_path_s = os.path.join(data_dir, voice_dir[s_label])\n",
    "    voice_path_t = os.path.join(data_dir, voice_dir[t_label])\n",
    "    \n",
    "    files = os.listdir(voice_path_s)\n",
    "    file = \"\"\n",
    "    while file.count(\"wav\") == 0:\n",
    "        file = np.random.choice(files)\n",
    "        \n",
    "    wav, _ = librosa.load(os.path.join(voice_path_s, file), sr = sampling_rate, mono = True)\n",
    "    wav = wav_padding(wav = wav, sr = sampling_rate, frame_period = frame_period, multiple = 4)\n",
    "    f0, timeaxis, sp, ap = world_decompose(wav = wav, fs = sampling_rate, frame_period = frame_period)\n",
    "    coded_sp = world_encode_spectral_envelop(sp = sp, fs = sampling_rate, dim = num_mcep)\n",
    "    coded_sp_transposed = coded_sp.T\n",
    "    \n",
    "    mcep_normalization_params_s = np.load(os.path.join(voice_path_s, \"mcep_\"+voice_dir[s_label]+\".npz\"))\n",
    "    mcep_mean_s = mcep_normalization_params_s['mean']\n",
    "    mcep_std_s = mcep_normalization_params_s['std']    \n",
    "    mcep_normalization_params_t = np.load(os.path.join(voice_path_t, \"mcep_\"+voice_dir[t_label]+\".npz\"))\n",
    "    mcep_mean_t = mcep_normalization_params_t['mean']\n",
    "    mcep_std_t = mcep_normalization_params_t['std']\n",
    "    \n",
    "    coded_sp_norm = (coded_sp_transposed - mcep_mean_s) / mcep_std_s\n",
    "    \n",
    "    x = torch.Tensor(coded_sp_norm).view(1, 1, coded_sp_norm.shape[0], coded_sp_norm.shape[1])\n",
    "    \n",
    "    label_s_tensor = torch.Tensor(np.array([s_label])).view(1, 1)\n",
    "    label_t_tensor = torch.Tensor(np.array([t_label])).view(1, 1)\n",
    "    \n",
    "    mu_enc, logvar_enc = model.encode(x, label_s_tensor)\n",
    "    z_enc = model.reparameterize(mu_enc, logvar_enc)\n",
    "    mu_dec, logvar_dec = model.decode(z_enc, label_t_tensor)\n",
    "    z_dec = model.reparameterize(mu_dec, logvar_dec)\n",
    "    z_dec = z_dec.data.numpy().reshape((coded_sp_norm.shape[0], coded_sp_norm.shape[1]))\n",
    "    \n",
    "    coded_sp_converted = z_dec * mcep_std_t + mcep_mean_t\n",
    "    \n",
    "    logf0s_normalization_params_s = np.load(os.path.join(voice_path_s, \"log_f0_\"+voice_dir[s_label]+\".npz\"))\n",
    "    logf0s_mean_s = logf0s_normalization_params_s['mean']\n",
    "    logf0s_std_s = logf0s_normalization_params_s['std']\n",
    "    logf0s_normalization_params_t = np.load(os.path.join(voice_path_t, \"log_f0_\"+voice_dir[t_label]+\".npz\"))\n",
    "    logf0s_mean_t = logf0s_normalization_params_t['mean']\n",
    "    logf0s_std_t = logf0s_normalization_params_t['std']\n",
    "    \n",
    "    f0_converted = pitch_conversion(f0 = f0, mean_log_src = logf0s_mean_s, std_log_src = logf0s_std_s, mean_log_target = logf0s_mean_t, std_log_target = logf0s_std_t)\n",
    "    \n",
    "    coded_sp_converted = coded_sp_converted.T\n",
    "    coded_sp_converted = np.ascontiguousarray(coded_sp_converted)\n",
    "    decoded_sp_converted = world_decode_spectral_envelop(coded_sp = coded_sp_converted, fs = sampling_rate)\n",
    "    wav_transformed = world_speech_synthesis(f0 = f0_converted, decoded_sp = decoded_sp_converted, ap = ap, fs = sampling_rate, frame_period = frame_period)\n",
    "    librosa.output.write_wav(os.path.join(output_dir, str(epoch) + \"_\" + os.path.basename(file)), wav_transformed, sampling_rate)\n",
    "    \n",
    "    print(\"Test\")\n",
    "    print(file)\n",
    "    print(\"Converted: \" + voice_dir[s_label] + \" -> \" + voice_dir[t_label])"
   ]
  },
  {
   "cell_type": "code",
   "execution_count": 9,
   "metadata": {},
   "outputs": [
    {
     "name": "stdout",
     "output_type": "stream",
     "text": [
      "cpu\n",
      "Epoch: 1\n",
      "Time Elapsed for one epoch: 00:00:04\n",
      "Epoch: 2\n",
      "Time Elapsed for one epoch: 00:00:04\n",
      "Epoch: 3\n",
      "Time Elapsed for one epoch: 00:00:04\n",
      "Epoch: 4\n",
      "Time Elapsed for one epoch: 00:00:04\n",
      "Epoch: 5\n",
      "Time Elapsed for one epoch: 00:00:05\n",
      "Epoch: 6\n",
      "Time Elapsed for one epoch: 00:00:04\n",
      "Epoch: 7\n",
      "Time Elapsed for one epoch: 00:00:04\n",
      "Epoch: 8\n",
      "Time Elapsed for one epoch: 00:00:04\n",
      "Epoch: 9\n",
      "Time Elapsed for one epoch: 00:00:04\n",
      "Epoch: 10\n",
      "Time Elapsed for one epoch: 00:00:04\n"
     ]
    },
    {
     "data": {
      "image/png": "[encoded data removed]",
      "text/plain": [
       "<Figure size 432x288 with 1 Axes>"
      ]
     },
     "metadata": {},
     "output_type": "display_data"
    },
    {
     "data": {
      "image/png": "[encoded data removed]",
      "text/plain": [
       "<Figure size 432x288 with 1 Axes>"
      ]
     },
     "metadata": {},
     "output_type": "display_data"
    }
   ],
   "source": [
    "device = torch.device(\"cuda\" if torch.cuda.is_available() else \"cpu\")\n",
    "print(device)\n",
    "\n",
    "model = ACVAE().to(device)\n",
    "optimizer = torch.optim.Adam(model.parameters(), lr=learning_rate)\n",
    "\n",
    "model.train()\n",
    "\n",
    "for epoch in range(num_epochs):\n",
    "    epoch += 1\n",
    "    \n",
    "    start_time = time.time()\n",
    "\n",
    "    print('Epoch: %d' % epoch)\n",
    "\n",
    "    x_, label_ = data_load(batch_size)\n",
    "    optimizer.zero_grad()\n",
    "    loss, loss_list = model.calc_loss(x_, label_)\n",
    "    loss.backward()\n",
    "    losses.append(loss_list)\n",
    "    optimizer.step()\n",
    "    loss_num += 1\n",
    "    \n",
    "    if epoch % 100 == 0:\n",
    "        test_one_file(model, _from, _to, epoch)\n",
    "    if epoch % 100 == 0:\n",
    "        model_save(model, model_dir, model_name)\n",
    "    if epoch % 2000 == 0:\n",
    "        model_save(model, model_dir, model_name + \"_\" + str(epoch))\n",
    "\n",
    "    if epoch % 10 == 0:\n",
    "        save_figure(losses, epoch)\n",
    "    \n",
    "    elapsed_time = time.time() - start_time\n",
    "    print('Time Elapsed for one epoch: %02d:%02d:%02d' % (elapsed_time // 3600, (elapsed_time % 3600 // 60), (elapsed_time % 60 // 1)))\n",
    "\n",
    "model_save(model, model_dir, model_name)\n",
    "\n",
    "save_figure(losses, epoch)\n"
   ]
  },
  {
   "cell_type": "code",
   "execution_count": 10,
   "metadata": {},
   "outputs": [],
   "source": [
    "a, b= data_load(2)"
   ]
  },
  {
   "cell_type": "code",
   "execution_count": 11,
   "metadata": {},
   "outputs": [
    {
     "data": {
      "text/plain": [
       "torch.Size([2, 1, 36, 1024])"
      ]
     },
     "execution_count": 11,
     "metadata": {},
     "output_type": "execute_result"
    }
   ],
   "source": [
    "np.shape(a)"
   ]
  },
  {
   "cell_type": "code",
   "execution_count": 12,
   "metadata": {},
   "outputs": [
    {
     "data": {
      "text/plain": [
       "(array([   54.,   257.,  1420.,  4695.,  8712., 10954.,  7297.,  2714.,\n",
       "          674.,    87.]),\n",
       " array([-4.02091026, -3.25785735, -2.49480443, -1.73175151, -0.9686986 ,\n",
       "        -0.20564568,  0.55740724,  1.32046015,  2.08351307,  2.84656599,\n",
       "         3.6096189 ]),\n",
       " <a list of 10 Patch objects>)"
      ]
     },
     "execution_count": 12,
     "metadata": {},
     "output_type": "execute_result"
    },
    {
     "data": {
      "image/png": "[encoded data removed]",
      "text/plain": [
       "<Figure size 432x288 with 1 Axes>"
      ]
     },
     "metadata": {},
     "output_type": "display_data"
    }
   ],
   "source": [
    "plt.hist(np.array(a[0,0].flatten()))"
   ]
  },
  {
   "cell_type": "code",
   "execution_count": 13,
   "metadata": {},
   "outputs": [
    {
     "data": {
      "text/plain": [
       "[0.730417013168335, 29.107553482055664, 1.3815511465072632, 2.7631022930145264]"
      ]
     },
     "execution_count": 13,
     "metadata": {},
     "output_type": "execute_result"
    }
   ],
   "source": [
    "losses[5]"
   ]
  },
  {
   "cell_type": "code",
   "execution_count": null,
   "metadata": {},
   "outputs": [],
   "source": []
  }
 ],
 "metadata": {
  "kernelspec": {
   "display_name": "Python 3",
   "language": "python",
   "name": "python3"
  },
  "language_info": {
   "codemirror_mode": {
    "name": "ipython",
    "version": 3
   },
   "file_extension": ".py",
   "mimetype": "text/x-python",
   "name": "python",
   "nbconvert_exporter": "python",
   "pygments_lexer": "ipython3",
   "version": "3.6.5"
  }
 },
 "nbformat": 4,
 "nbformat_minor": 2
}
