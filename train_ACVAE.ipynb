{
 "cells": [
  {
   "cell_type": "code",
   "execution_count": null,
   "metadata": {},
   "outputs": [],
   "source": [
    "import numpy as np\n",
    "import torch\n",
    "import torch.nn as nn\n",
    "import torchvision.datasets as dsets\n",
    "import torchvision.transforms as transforms\n",
    "from torch.autograd import Variable\n",
    "from torchsummary import summary\n",
    "\n",
    "import os\n",
    "import pyworld\n",
    "import librosa\n",
    "import time\n",
    "import matplotlib.pyplot as plt\n",
    "\n",
    "from preprocess import *\n",
    "from model import *\n",
    "\n",
    "torch.manual_seed(0)\n",
    "np.random.seed(0)"
   ]
  },
  {
   "cell_type": "code",
   "execution_count": null,
   "metadata": {},
   "outputs": [],
   "source": [
    "model_dir = \"./model/model_mc32_fr1024\"\n",
    "model_name = \"model_mc32_fr1024\"\n",
    "\n",
    "data_dir = \"./data/voice_data\"\n",
    "voice_dir = [\"F4\", \"F5\", \"F6\", \"M2\"]\n",
    "# voice_dir = [\"test01\", \"test02\"]\n",
    "\n",
    "output_dir = \"./converted_voices/test\"\n",
    "figure_dir = \"./figure/model_mc32_fr1024\""
   ]
  },
  {
   "cell_type": "code",
   "execution_count": null,
   "metadata": {},
   "outputs": [],
   "source": [
    "if (True):\n",
    "    for v in voice_dir:\n",
    "        print(\"Preprocess: \" + v)\n",
    "        preprocess_voice(os.path.join(data_dir, v), v)"
   ]
  },
  {
   "cell_type": "code",
   "execution_count": null,
   "metadata": {},
   "outputs": [],
   "source": [
    "num_epochs = 10 #10000\n",
    "batch_size = 2\n",
    "learning_rate =1e-3 \n",
    "\n",
    "sampling_rate = 16000\n",
    "num_mcep = 36\n",
    "frame_period = 5.0\n",
    "n_frames = 1024 \n",
    "\n",
    "losses = []\n",
    "loss_num = 0"
   ]
  },
  {
   "cell_type": "code",
   "execution_count": null,
   "metadata": {},
   "outputs": [],
   "source": [
    "def model_save(model, model_dir, model_name):\n",
    "    if not os.path.exists(model_dir):\n",
    "        os.makedirs(model_dir)\n",
    "    torch.save(model.state_dict(), os.path.join(model_dir, model_name))\n",
    "    \n",
    "def model_load(model_dir, model_name):\n",
    "    model = ACVAE()\n",
    "    model.load_state_dict(torch.load(os.path.join(model_dir, model_name)))"
   ]
  },
  {
   "cell_type": "code",
   "execution_count": null,
   "metadata": {},
   "outputs": [],
   "source": [
    "def data_load(batchsize = 1, s = -1, t = -1):\n",
    "    x = []\n",
    "    label = []\n",
    "    for i in range(batchsize):\n",
    "        if (s == -1):\n",
    "            label_num = np.random.randint(len(voice_dir))\n",
    "        else:\n",
    "            label_num = s\n",
    "        voice_path = os.path.join(data_dir, voice_dir[label_num])\n",
    "        files = os.listdir(voice_path)\n",
    "        \n",
    "        frames = 0\n",
    "        while frames < n_frames:\n",
    "            \n",
    "            file = \"\"\n",
    "            while file.count(\"wav\") == 0:\n",
    "                file = np.random.choice(files)\n",
    "            print(file)\n",
    "            wav, _ = librosa.load(os.path.join(voice_path, file), sr = sampling_rate, mono = True)\n",
    "            wav = wav_padding(wav = wav, sr = sampling_rate, frame_period = frame_period, multiple = 4)\n",
    "            f0, timeaxis, sp, ap = world_decompose(wav = wav, fs = sampling_rate, frame_period = frame_period)\n",
    "            coded_sp = world_encode_spectral_envelop(sp = sp, fs = sampling_rate, dim = num_mcep)\n",
    "            coded_sp_transposed = coded_sp.T\n",
    "            frames = np.shape(coded_sp_transposed)[1]\n",
    "            \n",
    "        mcep_normalization_params = np.load(os.path.join(voice_path, \"mcep_\"+voice_dir[label_num]+\".npz\"))\n",
    "        mcep_mean = mcep_normalization_params['mean']\n",
    "        mcep_std = mcep_normalization_params['std']\n",
    "        coded_sp_norm = (coded_sp_transposed - mcep_mean) / mcep_std\n",
    "            \n",
    "        start_ = np.random.randint(frames - n_frames + 1)\n",
    "        end_ = start_ + n_frames\n",
    "            \n",
    "        x.append(coded_sp_norm[:,start_:end_])\n",
    "        label.append(label_num)\n",
    "\n",
    "    return torch.Tensor(x).view(batchsize, 1, num_mcep, n_frames), torch.Tensor(label)"
   ]
  },
  {
   "cell_type": "code",
   "execution_count": null,
   "metadata": {},
   "outputs": [],
   "source": [
    "def predict(model):\n",
    "    if not os.path.exists(output_dir):\n",
    "        os.makedirs(output_dir)"
   ]
  },
  {
   "cell_type": "code",
   "execution_count": null,
   "metadata": {},
   "outputs": [],
   "source": [
    "device = torch.device(\"cuda\" if torch.cuda.is_available() else \"cpu\")\n",
    "print(device)\n",
    "\n",
    "model = ACVAE().to(device)\n",
    "optimizer = torch.optim.Adam(model.parameters(), lr=learning_rate)\n",
    "\n",
    "model.train()\n",
    "\n",
    "for epoch in range(num_epochs):\n",
    "    epoch += 1\n",
    "    \n",
    "    start_time = time.time()\n",
    "\n",
    "    print('Epoch: %d' % epoch)\n",
    "\n",
    "    x_, label_ = data_load(batch_size)\n",
    "    optimizer.zero_grad()\n",
    "    loss = model.calc_loss(x_, label_)\n",
    "    loss.backward()\n",
    "    losses.append(loss.item())\n",
    "    optimizer.step()\n",
    "    loss_num += 1\n",
    "    \n",
    "    if epoch % 100 == 0:\n",
    "        predict(model)\n",
    "    if epoch % 100 == 0:\n",
    "        model_save(model, model_dir, model_name)\n",
    "    if epoch % 2000 == 0:\n",
    "        model_save(model, model_dir, model_name + \"_\" + str(epoch))\n",
    "\n",
    "    if epoch % 10 == 0:\n",
    "        if not os.path.exists(figure_dir):\n",
    "            os.makedirs(figure_dir)\n",
    "        x = np.linspace(0, loss_num, loss_num)\n",
    "        plt.figure()\n",
    "        plt.plot(x, losses)\n",
    "        plt.savefig(figure_dir + \"/\" + \"epoch_{:05}\".format(epoch) + \".png\")\n",
    "\n",
    "    elapsed_time = time.time() - start_time\n",
    "    print('Time Elapsed for one epoch: %02d:%02d:%02d' % (elapsed_time // 3600, (elapsed_time % 3600 // 60), (elapsed_time % 60 // 1)))        \n",
    "\n",
    "model_save(model, model_dir, model_name)\n",
    "\n",
    "x = np.linspace(0, loss_num, loss_num)\n",
    "plt.figure()\n",
    "plt.plot(x, losses)\n",
    "plt.savefig(figure_dir + \"/\" + \"epoch_{:05}\".format(num_epochs) + \".png\")"
   ]
  },
  {
   "cell_type": "code",
   "execution_count": null,
   "metadata": {},
   "outputs": [],
   "source": [
    "a, b= data_load(2)"
   ]
  },
  {
   "cell_type": "code",
   "execution_count": null,
   "metadata": {},
   "outputs": [],
   "source": [
    "np.shape(a)"
   ]
  },
  {
   "cell_type": "code",
   "execution_count": null,
   "metadata": {},
   "outputs": [],
   "source": [
    "plt.hist(np.array(a[0,0].flatten()))"
   ]
  }
 ],
 "metadata": {
  "kernelspec": {
   "display_name": "Python 3",
   "language": "python",
   "name": "python3"
  },
  "language_info": {
   "codemirror_mode": {
    "name": "ipython",
    "version": 3
   },
   "file_extension": ".py",
   "mimetype": "text/x-python",
   "name": "python",
   "nbconvert_exporter": "python",
   "pygments_lexer": "ipython3",
   "version": "3.6.5"
  }
 },
 "nbformat": 4,
 "nbformat_minor": 2
}
