{
 "cells": [
  {
   "cell_type": "code",
   "execution_count": null,
   "metadata": {},
   "outputs": [],
   "source": [
    "import numpy as np\n",
    "import torch\n",
    "import torch.nn as nn\n",
    "import torchvision.datasets as dsets\n",
    "import torchvision.transforms as transforms\n",
    "\n",
    "import os\n",
    "import pyworld\n",
    "import librosa\n",
    "import time\n",
    "import matplotlib.pyplot as plt\n",
    "\n",
    "from preprocess import *\n",
    "\n",
    "torch.manual_seed(0)"
   ]
  },
  {
   "cell_type": "code",
   "execution_count": null,
   "metadata": {},
   "outputs": [],
   "source": [
    "model_dir = \"./model/model_mc32_fr1024\"\n",
    "model_name = \"model_mc32_fr1024\"\n",
    "\n",
    "data_dir = \"./data/voice_data\"\n",
    "voices = [\"F4\", \"F5\", \"F6\", \"M2\"]\n",
    "\n",
    "figure_dir = \"./figure/model_mc32_fr1024\""
   ]
  },
  {
   "cell_type": "code",
   "execution_count": 2,
   "metadata": {},
   "outputs": [
    {
     "name": "stdout",
     "output_type": "stream",
     "text": [
      "cpu\n"
     ]
    }
   ],
   "source": [
    "num_epochs = 10000\n",
    "batch_size = 1\n",
    "\n",
    "sampling_rate = 16000\n",
    "num_mcep = 32 \n",
    "frame_period = 5.0\n",
    "n_frames = 1024 \n",
    "\n",
    "label_num = 4\n",
    "\n",
    "losses = []\n",
    "loss_num = 0"
   ]
  },
  {
   "cell_type": "code",
   "execution_count": null,
   "metadata": {},
   "outputs": [],
   "source": [
    "device = torch.device(\"cuda\" if torch.cuda.is_available() else \"cpu\")\n",
    "print(device)\n",
    "\n",
    "model = ACVAE().to(device)\n",
    "optimizer = optim.Adam(model.parameters(), lr=learning_rate)"
   ]
  },
  {
   "cell_type": "code",
   "execution_count": null,
   "metadata": {},
   "outputs": [],
   "source": [
    "def model_save(model, model_dir, model_name):\n",
    "    if not os.path.exists(directory):\n",
    "        os.makedirs(directory)\n",
    "    torch.save(model.state_dict(), os.path.join(model_dir, model_name))\n",
    "    \n",
    "def model_load(model_dir, model_name):\n",
    "    model = ACVAE()\n",
    "    model.load_state_dict(torch.load(os.path.join(model_dir, model_name)))"
   ]
  },
  {
   "cell_type": "code",
   "execution_count": null,
   "metadata": {},
   "outputs": [],
   "source": [
    "def data_load():\n",
    "    "
   ]
  },
  {
   "cell_type": "code",
   "execution_count": null,
   "metadata": {},
   "outputs": [],
   "source": [
    "model.train()\n",
    "\n",
    "for epoch in range(num_epochs):\n",
    "    \n",
    "    start_time = time.time()\n",
    "\n",
    "    print('Epoch: %d' % epoch)\n",
    "\n",
    "    x_, label_ = data_load()\n",
    "    optimizer.zero_glad()\n",
    "    loss = model.train_model(x_, label_)\n",
    "    loss.backward()\n",
    "    losses.append(loss.item())\n",
    "    optimizer.step()\n",
    "    loss_num += 1\n",
    "    \n",
    "    if epoch % 100 == 0:\n",
    "        model.pred(x, label, )\n",
    "\n",
    "    if epoch % 100 == 0:\n",
    "        model_save(model, model_dir, model_name)\n",
    "    if epoch % 2000 == 0:\n",
    "        model_save(model, model_dir, model_name + \"_\" + str(epoch))\n",
    "\n",
    "    if epoch % 10 == 0:\n",
    "        if not os.path.exists(figure_dir):\n",
    "            os.makedirs(figure_dir)\n",
    "        x = np.linspace(0, loss_num, loss_num)\n",
    "        plt.figure()\n",
    "        plt.plot(x, loss)\n",
    "        plt.savefig(figure_dir + \"/\" + \"epoch_{:05}\".format(epoch) + \".png\")\n",
    "\n",
    "    elapsed_time = time.time() - start_time\n",
    "    print('Time Elapsed for one epoch: %02d:%02d:%02d' % (elapsed_time // 3600, (elapsed_time % 3600 // 60), (elapsed_time % 60 // 1)))        \n",
    "\n",
    "model_save(model, model_dir)\n",
    "\n",
    "x = np.linspace(0, loss_num, loss_num)\n",
    "plt.figure()\n",
    "plt.plot(x, loss)\n",
    "plt.savefig(figure_dir + \"/\" + \"epoch_{:05}\".format(num_epochs) + \".png\")"
   ]
  }
 ],
 "metadata": {
  "kernelspec": {
   "display_name": "Python 3",
   "language": "python",
   "name": "python3"
  },
  "language_info": {
   "codemirror_mode": {
    "name": "ipython",
    "version": 3
   },
   "file_extension": ".py",
   "mimetype": "text/x-python",
   "name": "python",
   "nbconvert_exporter": "python",
   "pygments_lexer": "ipython3",
   "version": "3.6.4"
  }
 },
 "nbformat": 4,
 "nbformat_minor": 2
}
